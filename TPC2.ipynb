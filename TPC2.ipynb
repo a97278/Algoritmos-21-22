{
 "cells": [
  {
   "cell_type": "markdown",
   "id": "3fb7cc26",
   "metadata": {},
   "source": [
    "### TPC2"
   ]
  },
  {
   "cell_type": "markdown",
   "id": "c529dafb",
   "metadata": {},
   "source": [
    "#### Em qual número eu pensei?"
   ]
  },
  {
   "cell_type": "code",
   "execution_count": null,
   "id": "ab12b264",
   "metadata": {},
   "outputs": [],
   "source": [
    "def numero():\n",
    "    import random\n",
    "    a= random.randint(1,100)\n",
    "\n",
    "    t=7 #numero de tentativas\n",
    "\n",
    "    while t>0:\n",
    "\n",
    "        b= input (\"Em qual número eu pensei?\")\n",
    "        b= int(b)\n",
    "\n",
    "        if b<1 or b>100:\n",
    "            print (\"Escolha um número entre 1 e 100.\")\n",
    "            continue\n",
    "        else:\n",
    "            t=t-1\n",
    "\n",
    "\n",
    "        if a==b:\n",
    "            print(\"Acertaste o número. Parabéns!\")\n",
    "        \n",
    "        elif a<b:\n",
    "            print('''Errado. Pensei num número menor.\n",
    "Tentativas restantes:''',t)\n",
    "            continue\n",
    "\n",
    "        else:\n",
    "            print('''Errado. Pensei num número maior.\n",
    "Tentativas restantes:''',t)\n",
    "            continue\n",
    "\n",
    "    if t==0 and b!=a:\n",
    "        print(\"Perdeu o jogo! O número era:\",a)\n",
    "    \n",
    "numero()"
   ]
  }
 ],
 "metadata": {
  "kernelspec": {
   "display_name": "Python 3",
   "language": "python",
   "name": "python3"
  },
  "language_info": {
   "codemirror_mode": {
    "name": "ipython",
    "version": 3
   },
   "file_extension": ".py",
   "mimetype": "text/x-python",
   "name": "python",
   "nbconvert_exporter": "python",
   "pygments_lexer": "ipython3",
   "version": "3.8.8"
  }
 },
 "nbformat": 4,
 "nbformat_minor": 5
}
