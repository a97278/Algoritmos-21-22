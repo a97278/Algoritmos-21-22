{
 "cells": [
  {
   "cell_type": "markdown",
   "id": "1277cd35",
   "metadata": {},
   "source": [
    "# Manifesto"
   ]
  },
  {
   "cell_type": "markdown",
   "id": "abc99708",
   "metadata": {},
   "source": [
    "Indentificador: ATP2021<p>\n",
    "Título: TPC3<p>\n",
    "Subtítulo: Bubble Sort - Construção de listas<p>\n",
    "Data de ínicio: 2021-10-21<p>\n",
    "Data de fim: 2021-10-27<p>\n",
    "Supervisor: jcr, https://www.di.uminho.pt/~jcr/<p>\n",
    "Autor: Lara Carvalho, a97278"
   ]
  },
  {
   "cell_type": "markdown",
   "id": "af529541",
   "metadata": {},
   "source": [
    "### Bubble Sort - Construção de listas"
   ]
  },
  {
   "cell_type": "code",
   "execution_count": null,
   "id": "25e71ffd",
   "metadata": {},
   "outputs": [],
   "source": [
    "def bubblesort(lista):\n",
    "    semaforo = True\n",
    "    \n",
    "    for j in range(len(lista)):\n",
    "        for i in range(len(lista)-j-1):\n",
    "\n",
    "            if lista[i] > lista[i+1]:\n",
    "                lista[i], lista[i+1] = lista [i+1], lista[i]\n",
    "                semaforo = False\n",
    "                \n",
    "    return(lista)\n",
    "\n",
    "lista=[115, 14, 35, 2, -3, 21]\n",
    "print(bubblesort(lista))"
   ]
  }
 ],
 "metadata": {
  "kernelspec": {
   "display_name": "Python 3",
   "language": "python",
   "name": "python3"
  },
  "language_info": {
   "codemirror_mode": {
    "name": "ipython",
    "version": 3
   },
   "file_extension": ".py",
   "mimetype": "text/x-python",
   "name": "python",
   "nbconvert_exporter": "python",
   "pygments_lexer": "ipython3",
   "version": "3.8.8"
  }
 },
 "nbformat": 4,
 "nbformat_minor": 5
}
